{
 "cells": [
  {
   "cell_type": "code",
   "execution_count": 20,
   "metadata": {},
   "outputs": [],
   "source": [
    "import pandas as pd,\\\n",
    "        os"
   ]
  },
  {
   "cell_type": "code",
   "execution_count": 58,
   "metadata": {},
   "outputs": [],
   "source": [
    "caminho_do_arquivo = os.path.join(os.path.expanduser(\"c:\\\\Data\\\\\"), \"Mega-Sena.xlsx\")\n",
    "caminho_do_arquivo2 = os.path.join(os.path.expanduser(\"c:\\\\Data\\\\\"), \"teste.csv\")"
   ]
  },
  {
   "cell_type": "code",
   "execution_count": 59,
   "metadata": {},
   "outputs": [
    {
     "data": {
      "text/html": [
       "<div>\n",
       "<style scoped>\n",
       "    .dataframe tbody tr th:only-of-type {\n",
       "        vertical-align: middle;\n",
       "    }\n",
       "\n",
       "    .dataframe tbody tr th {\n",
       "        vertical-align: top;\n",
       "    }\n",
       "\n",
       "    .dataframe thead th {\n",
       "        text-align: right;\n",
       "    }\n",
       "</style>\n",
       "<table border=\"1\" class=\"dataframe\">\n",
       "  <thead>\n",
       "    <tr style=\"text-align: right;\">\n",
       "      <th></th>\n",
       "      <th>teste</th>\n",
       "      <th>1234</th>\n",
       "      <th>abc</th>\n",
       "    </tr>\n",
       "  </thead>\n",
       "  <tbody>\n",
       "    <tr>\n",
       "      <th>0</th>\n",
       "      <td>teste2</td>\n",
       "      <td>4332</td>\n",
       "      <td>zxc</td>\n",
       "    </tr>\n",
       "    <tr>\n",
       "      <th>1</th>\n",
       "      <td>teste3</td>\n",
       "      <td>345435</td>\n",
       "      <td>sdfdsf</td>\n",
       "    </tr>\n",
       "  </tbody>\n",
       "</table>\n",
       "</div>"
      ],
      "text/plain": [
       "    teste    1234     abc\n",
       "0  teste2    4332     zxc\n",
       "1  teste3  345435  sdfdsf"
      ]
     },
     "execution_count": 59,
     "metadata": {},
     "output_type": "execute_result"
    }
   ],
   "source": [
    "pd.read_csv(caminho_do_arquivo2, sep=\";\")"
   ]
  },
  {
   "cell_type": "code",
   "execution_count": 62,
   "metadata": {},
   "outputs": [],
   "source": [
    "# Use a função read_excel para ler o arquivo Excel e criar um DataFrame\n",
    "df = pd.read_excel(caminho_do_arquivo, sheet_name=\"MEGA SENA\")"
   ]
  },
  {
   "cell_type": "code",
   "execution_count": 69,
   "metadata": {},
   "outputs": [
    {
     "data": {
      "text/html": [
       "<div>\n",
       "<style scoped>\n",
       "    .dataframe tbody tr th:only-of-type {\n",
       "        vertical-align: middle;\n",
       "    }\n",
       "\n",
       "    .dataframe tbody tr th {\n",
       "        vertical-align: top;\n",
       "    }\n",
       "\n",
       "    .dataframe thead th {\n",
       "        text-align: right;\n",
       "    }\n",
       "</style>\n",
       "<table border=\"1\" class=\"dataframe\">\n",
       "  <thead>\n",
       "    <tr style=\"text-align: right;\">\n",
       "      <th></th>\n",
       "      <th>Data do Sorteio</th>\n",
       "      <th>Bola1</th>\n",
       "      <th>Bola2</th>\n",
       "      <th>Bola3</th>\n",
       "      <th>Bola4</th>\n",
       "      <th>Bola5</th>\n",
       "      <th>Bola6</th>\n",
       "    </tr>\n",
       "  </thead>\n",
       "  <tbody>\n",
       "    <tr>\n",
       "      <th>0</th>\n",
       "      <td>11/03/1996</td>\n",
       "      <td>4</td>\n",
       "      <td>5</td>\n",
       "      <td>30</td>\n",
       "      <td>33</td>\n",
       "      <td>41</td>\n",
       "      <td>52</td>\n",
       "    </tr>\n",
       "    <tr>\n",
       "      <th>1</th>\n",
       "      <td>18/03/1996</td>\n",
       "      <td>9</td>\n",
       "      <td>37</td>\n",
       "      <td>39</td>\n",
       "      <td>41</td>\n",
       "      <td>43</td>\n",
       "      <td>49</td>\n",
       "    </tr>\n",
       "    <tr>\n",
       "      <th>2</th>\n",
       "      <td>25/03/1996</td>\n",
       "      <td>10</td>\n",
       "      <td>11</td>\n",
       "      <td>29</td>\n",
       "      <td>30</td>\n",
       "      <td>36</td>\n",
       "      <td>47</td>\n",
       "    </tr>\n",
       "    <tr>\n",
       "      <th>3</th>\n",
       "      <td>01/04/1996</td>\n",
       "      <td>1</td>\n",
       "      <td>5</td>\n",
       "      <td>6</td>\n",
       "      <td>27</td>\n",
       "      <td>42</td>\n",
       "      <td>59</td>\n",
       "    </tr>\n",
       "    <tr>\n",
       "      <th>4</th>\n",
       "      <td>08/04/1996</td>\n",
       "      <td>1</td>\n",
       "      <td>2</td>\n",
       "      <td>6</td>\n",
       "      <td>16</td>\n",
       "      <td>19</td>\n",
       "      <td>46</td>\n",
       "    </tr>\n",
       "    <tr>\n",
       "      <th>...</th>\n",
       "      <td>...</td>\n",
       "      <td>...</td>\n",
       "      <td>...</td>\n",
       "      <td>...</td>\n",
       "      <td>...</td>\n",
       "      <td>...</td>\n",
       "      <td>...</td>\n",
       "    </tr>\n",
       "    <tr>\n",
       "      <th>2664</th>\n",
       "      <td>07/12/2023</td>\n",
       "      <td>3</td>\n",
       "      <td>14</td>\n",
       "      <td>21</td>\n",
       "      <td>22</td>\n",
       "      <td>37</td>\n",
       "      <td>39</td>\n",
       "    </tr>\n",
       "    <tr>\n",
       "      <th>2665</th>\n",
       "      <td>09/12/2023</td>\n",
       "      <td>5</td>\n",
       "      <td>25</td>\n",
       "      <td>29</td>\n",
       "      <td>30</td>\n",
       "      <td>43</td>\n",
       "      <td>47</td>\n",
       "    </tr>\n",
       "    <tr>\n",
       "      <th>2666</th>\n",
       "      <td>12/12/2023</td>\n",
       "      <td>1</td>\n",
       "      <td>4</td>\n",
       "      <td>8</td>\n",
       "      <td>21</td>\n",
       "      <td>46</td>\n",
       "      <td>51</td>\n",
       "    </tr>\n",
       "    <tr>\n",
       "      <th>2667</th>\n",
       "      <td>14/12/2023</td>\n",
       "      <td>1</td>\n",
       "      <td>27</td>\n",
       "      <td>30</td>\n",
       "      <td>41</td>\n",
       "      <td>46</td>\n",
       "      <td>57</td>\n",
       "    </tr>\n",
       "    <tr>\n",
       "      <th>2668</th>\n",
       "      <td>16/12/2023</td>\n",
       "      <td>4</td>\n",
       "      <td>7</td>\n",
       "      <td>16</td>\n",
       "      <td>35</td>\n",
       "      <td>46</td>\n",
       "      <td>54</td>\n",
       "    </tr>\n",
       "  </tbody>\n",
       "</table>\n",
       "<p>2669 rows × 7 columns</p>\n",
       "</div>"
      ],
      "text/plain": [
       "     Data do Sorteio  Bola1  Bola2  Bola3  Bola4  Bola5  Bola6\n",
       "0         11/03/1996      4      5     30     33     41     52\n",
       "1         18/03/1996      9     37     39     41     43     49\n",
       "2         25/03/1996     10     11     29     30     36     47\n",
       "3         01/04/1996      1      5      6     27     42     59\n",
       "4         08/04/1996      1      2      6     16     19     46\n",
       "...              ...    ...    ...    ...    ...    ...    ...\n",
       "2664      07/12/2023      3     14     21     22     37     39\n",
       "2665      09/12/2023      5     25     29     30     43     47\n",
       "2666      12/12/2023      1      4      8     21     46     51\n",
       "2667      14/12/2023      1     27     30     41     46     57\n",
       "2668      16/12/2023      4      7     16     35     46     54\n",
       "\n",
       "[2669 rows x 7 columns]"
      ]
     },
     "execution_count": 69,
     "metadata": {},
     "output_type": "execute_result"
    }
   ],
   "source": [
    "df"
   ]
  },
  {
   "cell_type": "code",
   "execution_count": 70,
   "metadata": {},
   "outputs": [
    {
     "data": {
      "text/plain": [
       "(2669, 7)"
      ]
     },
     "execution_count": 70,
     "metadata": {},
     "output_type": "execute_result"
    }
   ],
   "source": [
    "df.shape"
   ]
  },
  {
   "cell_type": "code",
   "execution_count": null,
   "metadata": {},
   "outputs": [],
   "source": []
  }
 ],
 "metadata": {
  "kernelspec": {
   "display_name": "Python 3",
   "language": "python",
   "name": "python3"
  },
  "language_info": {
   "codemirror_mode": {
    "name": "ipython",
    "version": 3
   },
   "file_extension": ".py",
   "mimetype": "text/x-python",
   "name": "python",
   "nbconvert_exporter": "python",
   "pygments_lexer": "ipython3",
   "version": "3.11.7"
  }
 },
 "nbformat": 4,
 "nbformat_minor": 2
}
